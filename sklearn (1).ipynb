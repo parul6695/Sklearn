{
  "nbformat": 4,
  "nbformat_minor": 0,
  "metadata": {
    "colab": {
      "name": "sklearn.ipynb",
      "provenance": []
    },
    "kernelspec": {
      "name": "python3",
      "display_name": "Python 3"
    }
  },
  "cells": [
    {
      "cell_type": "markdown",
      "metadata": {
        "id": "HGqQj8erEPOm",
        "colab_type": "text"
      },
      "source": [
        "**Example of training a model using Scikit learn library.**\n",
        "\n",
        "*import necessary libraraies required for Data preprocessing and implementing models in Scikit.*\n",
        "\n"
      ]
    },
    {
      "cell_type": "code",
      "metadata": {
        "id": "N3U7GBPLAE8G",
        "colab_type": "code",
        "colab": {}
      },
      "source": [
        "from sklearn import neighbors, datasets, preprocessing \n",
        "from sklearn.model_selection import train_test_split \n",
        "from sklearn.metrics import accuracy_score \n",
        " "
      ],
      "execution_count": 0,
      "outputs": []
    },
    {
      "cell_type": "markdown",
      "metadata": {
        "id": "dOpvB3CMGVB8",
        "colab_type": "text"
      },
      "source": [
        "Below is the basic example to explore Scikit with one of its Iris Dataset.\n",
        "Data sets consists of 3 different types of irises’ (Setosa, Versicolour, and Virginica) petal and sepal length, stored in a 150x4 numpy.ndarray\n",
        "The rows being the samples and the columns being: Sepal Length, Sepal Width, Petal Length and Petal Width.\n",
        "We have tried fitting KNN model in order to classify flower samples in iris dataset.KNN is simple and instance-based learning algorithm. It can be useful in case of nonlinear data. \n"
      ]
    },
    {
      "cell_type": "code",
      "metadata": {
        "id": "II7AaR1FbS3v",
        "colab_type": "code",
        "colab": {}
      },
      "source": [
        "iris = datasets.load_iris() \n",
        "X, y = iris.data[:, :2], iris.target \n",
        "X_train, X_test, y_train, y_test = train_test_split(X, y, random_state=33) \n",
        "scaler = preprocessing.StandardScaler().fit(X_train) \n",
        "X_train = scaler.transform(X_train) \n",
        "X_test = scaler.transform(X_test) \n",
        "knn = neighbors.KNeighborsClassifier(n_neighbors=3) \n",
        "knn.fit(X_train, y_train)\n",
        "y_pred = knn.predict(X_test) "
      ],
      "execution_count": 0,
      "outputs": []
    },
    {
      "cell_type": "markdown",
      "metadata": {
        "id": "23HTqHuaGsAx",
        "colab_type": "text"
      },
      "source": [
        "Using accuracy_score to determine the quality of our KNN classification model. Accuracy is the fraction of predictions our model got right. Formally, accuracy has the following definition: Accuracy = Number of correct predictions /Total number of predictions"
      ]
    },
    {
      "cell_type": "code",
      "metadata": {
        "id": "8ZEsIRW4GuBp",
        "colab_type": "code",
        "colab": {
          "base_uri": "https://localhost:8080/",
          "height": 34
        },
        "outputId": "18d9fa70-6bdc-4c4a-ea59-5496b67c8284"
      },
      "source": [
        "accuracy_score(y_test, y_pred)\n",
        "print(\"Accuracy score for KNeighborsClassifier:\",accuracy_score(y_test, y_pred))\n"
      ],
      "execution_count": 11,
      "outputs": [
        {
          "output_type": "stream",
          "text": [
            "Accuracy score for KNeighborsClassifier: 0.5263157894736842\n"
          ],
          "name": "stdout"
        }
      ]
    },
    {
      "cell_type": "markdown",
      "metadata": {
        "id": "XhuHKmz0QjhI",
        "colab_type": "text"
      },
      "source": [
        "With n_neighbors =3, we have seen the accuracy score.\n",
        "now, in oreder to improve accuracy, below is the KNN classifier with n_neighbors=5."
      ]
    },
    {
      "cell_type": "code",
      "metadata": {
        "id": "xJYEJLnOQkUN",
        "colab_type": "code",
        "colab": {
          "base_uri": "https://localhost:8080/",
          "height": 34
        },
        "outputId": "40414ba6-60a3-4a8d-fc31-9f281b52ef95"
      },
      "source": [
        "knn = neighbors.KNeighborsClassifier(n_neighbors=5) \n",
        "knn.fit(X_train, y_train)\n",
        "y_pred = knn.predict(X_test)\n",
        "accuracy_score(y_test, y_pred)\n",
        "print(\"Accuracy score for KNeighborsClassifier with n_neighbors=5:\",accuracy_score(y_test, y_pred))\n"
      ],
      "execution_count": 14,
      "outputs": [
        {
          "output_type": "stream",
          "text": [
            "Accuracy score for KNeighborsClassifier with n_neighbors=5: 0.631578947368421\n"
          ],
          "name": "stdout"
        }
      ]
    },
    {
      "cell_type": "markdown",
      "metadata": {
        "id": "aG3ipCNOVd8n",
        "colab_type": "text"
      },
      "source": [
        "Hence, we have observed that accuracy improved."
      ]
    }
  ]
}